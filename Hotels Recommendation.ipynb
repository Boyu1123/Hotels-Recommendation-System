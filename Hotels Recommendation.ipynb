{
 "cells": [
  {
   "cell_type": "markdown",
   "metadata": {},
   "source": [
    "# Imports and Reading data into the notebook"
   ]
  },
  {
   "cell_type": "code",
   "execution_count": 339,
   "metadata": {},
   "outputs": [],
   "source": [
    "import pandas as pd\n",
    "import scipy as sc\n",
    "import scipy.io as sio\n",
    "import numpy as np\n",
    "import math\n",
    "from numpy import *"
   ]
  },
  {
   "cell_type": "code",
   "execution_count": 340,
   "metadata": {},
   "outputs": [
    {
     "name": "stdout",
     "output_type": "stream",
     "text": [
      "(7504, 15)\n"
     ]
    },
    {
     "data": {
      "text/html": [
       "<div>\n",
       "<style scoped>\n",
       "    .dataframe tbody tr th:only-of-type {\n",
       "        vertical-align: middle;\n",
       "    }\n",
       "\n",
       "    .dataframe tbody tr th {\n",
       "        vertical-align: top;\n",
       "    }\n",
       "\n",
       "    .dataframe thead th {\n",
       "        text-align: right;\n",
       "    }\n",
       "</style>\n",
       "<table border=\"1\" class=\"dataframe\">\n",
       "  <thead>\n",
       "    <tr style=\"text-align: right;\">\n",
       "      <th></th>\n",
       "      <th>Hotelid</th>\n",
       "      <th>userid</th>\n",
       "      <th>reviewtext</th>\n",
       "      <th>Date</th>\n",
       "      <th>NoOfReaders</th>\n",
       "      <th>HelpfulToNoOfreaders</th>\n",
       "      <th>Value_rating</th>\n",
       "      <th>Rooms_rating</th>\n",
       "      <th>Location_rating</th>\n",
       "      <th>Cleanliness_rating</th>\n",
       "      <th>Checkin_rating</th>\n",
       "      <th>Service_rating</th>\n",
       "      <th>Businessservice_rating</th>\n",
       "      <th>AverageOverallRatingOfHotel</th>\n",
       "      <th>AveragePricing</th>\n",
       "    </tr>\n",
       "  </thead>\n",
       "  <tbody>\n",
       "    <tr>\n",
       "      <td>0</td>\n",
       "      <td>hotel_101</td>\n",
       "      <td>hotel_2225</td>\n",
       "      <td>Just An Average stay This was just an average ...</td>\n",
       "      <td>Dec 13, 2008</td>\n",
       "      <td>0</td>\n",
       "      <td>0</td>\n",
       "      <td>4</td>\n",
       "      <td>4</td>\n",
       "      <td>1</td>\n",
       "      <td>4</td>\n",
       "      <td>4</td>\n",
       "      <td>4</td>\n",
       "      <td>3</td>\n",
       "      <td>3.5</td>\n",
       "      <td>$245</td>\n",
       "    </tr>\n",
       "    <tr>\n",
       "      <td>1</td>\n",
       "      <td>hotel_101</td>\n",
       "      <td>hotel_5079</td>\n",
       "      <td>go elsewhere The place is hugely overpriced an...</td>\n",
       "      <td>Dec 2, 2008</td>\n",
       "      <td>0</td>\n",
       "      <td>0</td>\n",
       "      <td>2</td>\n",
       "      <td>4</td>\n",
       "      <td>3</td>\n",
       "      <td>3</td>\n",
       "      <td>1</td>\n",
       "      <td>2</td>\n",
       "      <td>2</td>\n",
       "      <td>3.5</td>\n",
       "      <td>$245</td>\n",
       "    </tr>\n",
       "  </tbody>\n",
       "</table>\n",
       "</div>"
      ],
      "text/plain": [
       "     Hotelid      userid                                         reviewtext  \\\n",
       "0  hotel_101  hotel_2225  Just An Average stay This was just an average ...   \n",
       "1  hotel_101  hotel_5079  go elsewhere The place is hugely overpriced an...   \n",
       "\n",
       "           Date  NoOfReaders  HelpfulToNoOfreaders  Value_rating  \\\n",
       "0  Dec 13, 2008            0                     0             4   \n",
       "1   Dec 2, 2008            0                     0             2   \n",
       "\n",
       "   Rooms_rating  Location_rating  Cleanliness_rating  Checkin_rating  \\\n",
       "0             4                1                   4               4   \n",
       "1             4                3                   3               1   \n",
       "\n",
       "   Service_rating  Businessservice_rating  AverageOverallRatingOfHotel  \\\n",
       "0               4                       3                          3.5   \n",
       "1               2                       2                          3.5   \n",
       "\n",
       "  AveragePricing  \n",
       "0           $245  \n",
       "1           $245  "
      ]
     },
     "execution_count": 340,
     "metadata": {},
     "output_type": "execute_result"
    }
   ],
   "source": [
    "my_path = '/Users/boyu.loo/Desktop/hotel.csv'\n",
    "my_df = pd.read_csv(my_path)\n",
    "print(my_df.shape)\n",
    "my_df.head(2)"
   ]
  },
  {
   "cell_type": "code",
   "execution_count": 341,
   "metadata": {},
   "outputs": [
    {
     "data": {
      "text/plain": [
       "Index(['Hotelid', 'userid', 'reviewtext', 'Date', 'NoOfReaders',\n",
       "       'HelpfulToNoOfreaders', 'Value_rating', 'Rooms_rating',\n",
       "       'Location_rating', 'Cleanliness_rating', 'Checkin_rating',\n",
       "       'Service_rating', 'Businessservice_rating',\n",
       "       'AverageOverallRatingOfHotel', 'AveragePricing'],\n",
       "      dtype='object')"
      ]
     },
     "execution_count": 341,
     "metadata": {},
     "output_type": "execute_result"
    }
   ],
   "source": [
    "my_df.columns"
   ]
  },
  {
   "cell_type": "code",
   "execution_count": 342,
   "metadata": {},
   "outputs": [
    {
     "data": {
      "text/plain": [
       "count          7504\n",
       "unique           75\n",
       "top       hotel_188\n",
       "freq            703\n",
       "Name: Hotelid, dtype: object"
      ]
     },
     "execution_count": 342,
     "metadata": {},
     "output_type": "execute_result"
    }
   ],
   "source": [
    "my_df['Hotelid'].describe()"
   ]
  },
  {
   "cell_type": "code",
   "execution_count": 343,
   "metadata": {},
   "outputs": [
    {
     "data": {
      "text/plain": [
       "count           7504\n",
       "unique          7313\n",
       "top       hotel_4370\n",
       "freq               4\n",
       "Name: userid, dtype: object"
      ]
     },
     "execution_count": 343,
     "metadata": {},
     "output_type": "execute_result"
    }
   ],
   "source": [
    "my_df['userid'].describe()"
   ]
  },
  {
   "cell_type": "code",
   "execution_count": 344,
   "metadata": {},
   "outputs": [
    {
     "data": {
      "text/plain": [
       "count                                                  7504\n",
       "unique                                                 7504\n",
       "top       Comfy and clean. Stayed with wife and 2 teenag...\n",
       "freq                                                      1\n",
       "Name: reviewtext, dtype: object"
      ]
     },
     "execution_count": 344,
     "metadata": {},
     "output_type": "execute_result"
    }
   ],
   "source": [
    "my_df['reviewtext'].describe()"
   ]
  },
  {
   "cell_type": "markdown",
   "metadata": {},
   "source": [
    "# Data pre-process"
   ]
  },
  {
   "cell_type": "code",
   "execution_count": 345,
   "metadata": {},
   "outputs": [
    {
     "data": {
      "text/plain": [
       "Hotelid                        0\n",
       "userid                         0\n",
       "reviewtext                     0\n",
       "Date                           0\n",
       "NoOfReaders                    0\n",
       "HelpfulToNoOfreaders           0\n",
       "Value_rating                   0\n",
       "Rooms_rating                   0\n",
       "Location_rating                0\n",
       "Cleanliness_rating             0\n",
       "Checkin_rating                 0\n",
       "Service_rating                 0\n",
       "Businessservice_rating         0\n",
       "AverageOverallRatingOfHotel    0\n",
       "AveragePricing                 0\n",
       "dtype: int64"
      ]
     },
     "execution_count": 345,
     "metadata": {},
     "output_type": "execute_result"
    }
   ],
   "source": [
    "'''Clean and imputing missing data'''\n",
    "my_df.isnull().sum()"
   ]
  },
  {
   "cell_type": "markdown",
   "metadata": {},
   "source": [
    "No missing values."
   ]
  },
  {
   "cell_type": "markdown",
   "metadata": {},
   "source": [
    "2.Delete lines with duplicate text"
   ]
  },
  {
   "cell_type": "code",
   "execution_count": 346,
   "metadata": {},
   "outputs": [
    {
     "data": {
      "text/plain": [
       "count                                                  7504\n",
       "unique                                                 7504\n",
       "top       Comfy and clean. Stayed with wife and 2 teenag...\n",
       "freq                                                      1\n",
       "Name: reviewtext, dtype: object"
      ]
     },
     "execution_count": 346,
     "metadata": {},
     "output_type": "execute_result"
    }
   ],
   "source": [
    "my_df['reviewtext'].describe()"
   ]
  },
  {
   "cell_type": "code",
   "execution_count": 347,
   "metadata": {},
   "outputs": [],
   "source": [
    "mydf_train_1 = my_df"
   ]
  },
  {
   "cell_type": "code",
   "execution_count": 348,
   "metadata": {},
   "outputs": [
    {
     "name": "stdout",
     "output_type": "stream",
     "text": [
      "(7504, 7)\n"
     ]
    }
   ],
   "source": [
    "'''Drop unnecessary columns'''\n",
    "mydf_train_1 = mydf_train_1.drop(\"Hotelid\", axis = 1)\n",
    "mydf_train_1 = mydf_train_1.drop(\"userid\", axis = 1)\n",
    "mydf_train_1 = mydf_train_1.drop(\"reviewtext\", axis = 1)\n",
    "mydf_train_1 = mydf_train_1.drop(\"Date\", axis = 1)\n",
    "mydf_train_1 = mydf_train_1.drop(\"NoOfReaders\", axis = 1)\n",
    "mydf_train_1 = mydf_train_1.drop(\"HelpfulToNoOfreaders\", axis = 1)\n",
    "mydf_train_1 = mydf_train_1.drop(\"AveragePricing\", axis = 1)\n",
    "mydf_train_1 = mydf_train_1.drop(\"AverageOverallRatingOfHotel\", axis = 1)\n",
    "print(mydf_train_1.shape)"
   ]
  },
  {
   "cell_type": "code",
   "execution_count": 349,
   "metadata": {
    "scrolled": true
   },
   "outputs": [
    {
     "name": "stdout",
     "output_type": "stream",
     "text": [
      "      Value_rating  Rooms_rating  Location_rating  Cleanliness_rating  \\\n",
      "0                4             4                1                   4   \n",
      "1                2             4                3                   3   \n",
      "2                2             4                3                   4   \n",
      "3                5             5                6                   6   \n",
      "4                5             6                6                   6   \n",
      "...            ...           ...              ...                 ...   \n",
      "7499             5             6                6                   6   \n",
      "7500             4             5                5                   4   \n",
      "7501             6             6                6                   6   \n",
      "7502             6             5                5                   6   \n",
      "7503             5             5                5                   6   \n",
      "\n",
      "      Checkin_rating  Service_rating  Businessservice_rating  \n",
      "0                  4               4                       3  \n",
      "1                  1               2                       2  \n",
      "2                  2               3                       1  \n",
      "3                  5               5                       3  \n",
      "4                  6               1                       6  \n",
      "...              ...             ...                     ...  \n",
      "7499               6               6                       5  \n",
      "7500               5               5                       4  \n",
      "7501               6               6                       6  \n",
      "7502               5               5                       5  \n",
      "7503               6               6                       6  \n",
      "\n",
      "[7504 rows x 7 columns]\n"
     ]
    }
   ],
   "source": [
    "'''Because the rating range is between 0-6, we drop data with rating more than 6'''\n",
    "def func_for(mydf_train_cur):\n",
    "    for index in mydf_train_cur.index:\n",
    "        if mydf_train_cur.loc[index, 'Value_rating'] > 6:\n",
    "            mydf_train_cur.loc[index, 'Value_rating'] *= 0\n",
    "        if mydf_train_cur.loc[index, 'Rooms_rating'] > 6:\n",
    "            mydf_train_cur.loc[index, 'Rooms_rating'] *= 0\n",
    "        if mydf_train_cur.loc[index, 'Location_rating'] > 6:\n",
    "            mydf_train_cur.loc[index, 'Location_rating'] *= 0\n",
    "        if mydf_train_cur.loc[index, 'Cleanliness_rating'] > 6:\n",
    "            mydf_train_cur.loc[index, 'Cleanliness_rating'] *= 0\n",
    "        if mydf_train_cur.loc[index, 'Checkin_rating'] > 6:\n",
    "            mydf_train_cur.loc[index, 'Checkin_rating'] *= 0\n",
    "        if mydf_train_cur.loc[index, 'Service_rating'] > 6:\n",
    "            mydf_train_cur.loc[index, 'Service_rating'] *= 0\n",
    "        if mydf_train_cur.loc[index, 'Businessservice_rating'] > 6:\n",
    "            mydf_train_cur.loc[index, 'Businessservice_rating'] *= 0\n",
    "    return mydf_train_cur\n",
    "\n",
    "mydf_train_cur = func_for(mydf_train_1)\n",
    "print(mydf_train_cur)\n"
   ]
  },
  {
   "cell_type": "code",
   "execution_count": 350,
   "metadata": {},
   "outputs": [
    {
     "name": "stdout",
     "output_type": "stream",
     "text": [
      "      Value_rating  Rooms_rating  Location_rating  Cleanliness_rating  \\\n",
      "0                4             4                1                   4   \n",
      "1                2             4                3                   3   \n",
      "2                2             4                3                   4   \n",
      "3                5             5                6                   6   \n",
      "4                5             6                6                   6   \n",
      "...            ...           ...              ...                 ...   \n",
      "7499             5             6                6                   6   \n",
      "7500             4             5                5                   4   \n",
      "7501             6             6                6                   6   \n",
      "7502             6             5                5                   6   \n",
      "7503             5             5                5                   6   \n",
      "\n",
      "      Checkin_rating  Service_rating  Businessservice_rating  \n",
      "0                  4               4                       3  \n",
      "1                  1               2                       2  \n",
      "2                  2               3                       1  \n",
      "3                  5               5                       3  \n",
      "4                  6               1                       6  \n",
      "...              ...             ...                     ...  \n",
      "7499               6               6                       5  \n",
      "7500               5               5                       4  \n",
      "7501               6               6                       6  \n",
      "7502               5               5                       5  \n",
      "7503               6               6                       6  \n",
      "\n",
      "[7504 rows x 7 columns]\n"
     ]
    }
   ],
   "source": [
    "'''To keep data reasonalbe, we drop all the ratings below 1 but the Average Overall rating above 0'''\n",
    "def func(mydf):\n",
    "    for index in mydf.index:\n",
    "        if mydf.loc[index,'Value_rating'] < 1 and mydf.loc[index,' Rooms_rating'] < 1 and mydf.loc[index,'Location_rating'] < 1:\n",
    "            mydf = mydf.drop([index])\n",
    "        #if mydf.loc[index,'useful'] < 1:\n",
    "            #mydf = mydf.drop([index])\n",
    "        #if mydf.loc[index,'funny'] < 1:\n",
    "           # mydf = mydf.drop([index])\n",
    "    return mydf\n",
    "\n",
    "mydf_train_cur = func(mydf_train_1)\n",
    "print(mydf_train_cur)"
   ]
  },
  {
   "cell_type": "markdown",
   "metadata": {},
   "source": [
    "# Model K-means++"
   ]
  },
  {
   "cell_type": "code",
   "execution_count": 351,
   "metadata": {},
   "outputs": [],
   "source": [
    "'''Define the function for computing distance of two points'''\n",
    "def distEclud(pointA, pointB):\n",
    "    return sqrt(sum(power(pointA - pointB,2)))"
   ]
  },
  {
   "cell_type": "code",
   "execution_count": 352,
   "metadata": {},
   "outputs": [],
   "source": [
    "'''For each data point, we compute the distance between the point \n",
    "   and the nearest center that has already been chosen.'''\n",
    "def nearest(point, clusterSet):\n",
    "    min_dist = inf\n",
    "    m = np.shape(clusterSet)[0]\n",
    "    for i in range(m):\n",
    "        d = distEclud(point, clusterSet[i, ])\n",
    "        if min_dist > d:\n",
    "            min_dist = d\n",
    "    return min_dist"
   ]
  },
  {
   "cell_type": "code",
   "execution_count": 353,
   "metadata": {},
   "outputs": [],
   "source": [
    "'''Choose a new data point at random as a new center, \n",
    "   using a weighted probability distribution where a point is chosen with probability proportional to the square. \n",
    "   Repeat doing that until we found the cluster centers (3).'''\n",
    "def getCent(dataSet, k): \n",
    "    row, col = np.shape(dataSet)\n",
    "    centroids = np.zeros((k, col))\n",
    "    index = np.random.randint(0,row)\n",
    "    centroids[0,] = dataSet[index, ]\n",
    "    \n",
    "    d = [0.0 for _ in range(row)]\n",
    "    \n",
    "    for i in range(1,k):\n",
    "        sum_all = 0\n",
    "        for j in range(row):\n",
    "            d[j] = nearest(dataSet[j, ], centroids[0:i, ])\n",
    "            sum_all += d[j]\n",
    "        sum_all *= random.rand()\n",
    "        for j, di in enumerate(d):\n",
    "            sum_all = sum_all - di\n",
    "            if sum_all > 0:\n",
    "                continue\n",
    "            centroids[i,] = dataSet[j, ]\n",
    "            break\n",
    "    return centroids"
   ]
  },
  {
   "cell_type": "code",
   "execution_count": 354,
   "metadata": {},
   "outputs": [
    {
     "name": "stderr",
     "output_type": "stream",
     "text": [
      "/opt/anaconda3/lib/python3.7/site-packages/ipykernel_launcher.py:3: FutureWarning: Method .as_matrix will be removed in a future version. Use .values instead.\n",
      "  This is separate from the ipykernel package so we can avoid doing imports until\n"
     ]
    }
   ],
   "source": [
    "K = 3\n",
    "mydf_train_cur['overall_rating'] = 0\n",
    "dataSet = mydf_train_cur.as_matrix(columns=None)\n",
    "row = np.shape(dataSet)[0]\n",
    "centSet = getCent(dataSet, K)\n",
    "clusterAssment = np.zeros((row,2))\n",
    "clusterChange = True\n",
    "while clusterChange:\n",
    "    clusterChange = False\n",
    "    for i in range(row):\n",
    "        minDist = inf\n",
    "        minIndex = -1;\n",
    "        for j in range(K):\n",
    "            distCal = distEclud(centSet[j,:], dataSet[i,:])\n",
    "            if distCal < minDist:\n",
    "                minDist = distCal\n",
    "                minIndex = j\n",
    "                dataSet[i][7]=j;\n",
    "        if clusterAssment[i,0] != minIndex: \n",
    "            clusterChange = True\n",
    "        clusterAssment[i,:] = minIndex, minDist**2\n",
    "\n",
    "    for cent in range(K):\n",
    "        simpleCluster = dataSet[nonzero(clusterAssment[:,0] == cent)]\n",
    "        if len(simpleCluster) != 0:\n",
    "            centSet[cent,:] = mean(simpleCluster, 0)\n",
    "               \n"
   ]
  },
  {
   "cell_type": "code",
   "execution_count": 355,
   "metadata": {},
   "outputs": [
    {
     "name": "stdout",
     "output_type": "stream",
     "text": [
      "[[4 4 1 ... 4 3 2]\n",
      " [2 4 3 ... 2 2 1]\n",
      " [2 4 3 ... 3 1 2]\n",
      " ...\n",
      " [6 6 6 ... 6 6 0]\n",
      " [6 5 5 ... 5 5 0]\n",
      " [5 5 5 ... 6 6 0]]\n"
     ]
    }
   ],
   "source": [
    "print(dataSet)"
   ]
  },
  {
   "cell_type": "markdown",
   "metadata": {},
   "source": [
    "# Recommondation"
   ]
  },
  {
   "cell_type": "code",
   "execution_count": 356,
   "metadata": {},
   "outputs": [],
   "source": [
    "np.savetxt('/Users/boyu.loo/Desktop/hotel_rated.csv',dataSet)"
   ]
  },
  {
   "cell_type": "code",
   "execution_count": 357,
   "metadata": {},
   "outputs": [
    {
     "name": "stdout",
     "output_type": "stream",
     "text": [
      "(7504, 8)\n"
     ]
    },
    {
     "data": {
      "text/html": [
       "<div>\n",
       "<style scoped>\n",
       "    .dataframe tbody tr th:only-of-type {\n",
       "        vertical-align: middle;\n",
       "    }\n",
       "\n",
       "    .dataframe tbody tr th {\n",
       "        vertical-align: top;\n",
       "    }\n",
       "\n",
       "    .dataframe thead th {\n",
       "        text-align: right;\n",
       "    }\n",
       "</style>\n",
       "<table border=\"1\" class=\"dataframe\">\n",
       "  <thead>\n",
       "    <tr style=\"text-align: right;\">\n",
       "      <th></th>\n",
       "      <th>Value_rating</th>\n",
       "      <th>Rooms_rating</th>\n",
       "      <th>Location_rating</th>\n",
       "      <th>Cleanliness_rating</th>\n",
       "      <th>Checkin_rating</th>\n",
       "      <th>Service_rating</th>\n",
       "      <th>Businessservice_rating</th>\n",
       "      <th>overall_rating</th>\n",
       "    </tr>\n",
       "  </thead>\n",
       "  <tbody>\n",
       "    <tr>\n",
       "      <td>0</td>\n",
       "      <td>4.0</td>\n",
       "      <td>4.0</td>\n",
       "      <td>1.0</td>\n",
       "      <td>4.0</td>\n",
       "      <td>4.0</td>\n",
       "      <td>4.0</td>\n",
       "      <td>3.0</td>\n",
       "      <td>2.0</td>\n",
       "    </tr>\n",
       "    <tr>\n",
       "      <td>1</td>\n",
       "      <td>2.0</td>\n",
       "      <td>4.0</td>\n",
       "      <td>3.0</td>\n",
       "      <td>3.0</td>\n",
       "      <td>1.0</td>\n",
       "      <td>2.0</td>\n",
       "      <td>2.0</td>\n",
       "      <td>1.0</td>\n",
       "    </tr>\n",
       "    <tr>\n",
       "      <td>2</td>\n",
       "      <td>2.0</td>\n",
       "      <td>4.0</td>\n",
       "      <td>3.0</td>\n",
       "      <td>4.0</td>\n",
       "      <td>2.0</td>\n",
       "      <td>3.0</td>\n",
       "      <td>1.0</td>\n",
       "      <td>2.0</td>\n",
       "    </tr>\n",
       "    <tr>\n",
       "      <td>3</td>\n",
       "      <td>5.0</td>\n",
       "      <td>5.0</td>\n",
       "      <td>6.0</td>\n",
       "      <td>6.0</td>\n",
       "      <td>5.0</td>\n",
       "      <td>5.0</td>\n",
       "      <td>3.0</td>\n",
       "      <td>0.0</td>\n",
       "    </tr>\n",
       "    <tr>\n",
       "      <td>4</td>\n",
       "      <td>5.0</td>\n",
       "      <td>6.0</td>\n",
       "      <td>6.0</td>\n",
       "      <td>6.0</td>\n",
       "      <td>6.0</td>\n",
       "      <td>1.0</td>\n",
       "      <td>6.0</td>\n",
       "      <td>0.0</td>\n",
       "    </tr>\n",
       "  </tbody>\n",
       "</table>\n",
       "</div>"
      ],
      "text/plain": [
       "   Value_rating  Rooms_rating  Location_rating  Cleanliness_rating  \\\n",
       "0           4.0           4.0              1.0                 4.0   \n",
       "1           2.0           4.0              3.0                 3.0   \n",
       "2           2.0           4.0              3.0                 4.0   \n",
       "3           5.0           5.0              6.0                 6.0   \n",
       "4           5.0           6.0              6.0                 6.0   \n",
       "\n",
       "   Checkin_rating  Service_rating  Businessservice_rating  overall_rating  \n",
       "0             4.0             4.0                     3.0             2.0  \n",
       "1             1.0             2.0                     2.0             1.0  \n",
       "2             2.0             3.0                     1.0             2.0  \n",
       "3             5.0             5.0                     3.0             0.0  \n",
       "4             6.0             1.0                     6.0             0.0  "
      ]
     },
     "execution_count": 357,
     "metadata": {},
     "output_type": "execute_result"
    }
   ],
   "source": [
    "my_path = '/Users/boyu.loo/Desktop/hotel_rated.csv'\n",
    "my_df = pd.read_csv(my_path,sep=' ', header=None, names = ['Value_rating','Rooms_rating','Location_rating','Cleanliness_rating','Checkin_rating','Service_rating','Businessservice_rating','overall_rating'])\n",
    "print(my_df.shape)\n",
    "my_df.head()"
   ]
  },
  {
   "cell_type": "code",
   "execution_count": 358,
   "metadata": {},
   "outputs": [
    {
     "name": "stdout",
     "output_type": "stream",
     "text": [
      "(7504, 15)\n"
     ]
    },
    {
     "data": {
      "text/html": [
       "<div>\n",
       "<style scoped>\n",
       "    .dataframe tbody tr th:only-of-type {\n",
       "        vertical-align: middle;\n",
       "    }\n",
       "\n",
       "    .dataframe tbody tr th {\n",
       "        vertical-align: top;\n",
       "    }\n",
       "\n",
       "    .dataframe thead th {\n",
       "        text-align: right;\n",
       "    }\n",
       "</style>\n",
       "<table border=\"1\" class=\"dataframe\">\n",
       "  <thead>\n",
       "    <tr style=\"text-align: right;\">\n",
       "      <th></th>\n",
       "      <th>Hotelid</th>\n",
       "      <th>userid</th>\n",
       "      <th>reviewtext</th>\n",
       "      <th>Date</th>\n",
       "      <th>NoOfReaders</th>\n",
       "      <th>HelpfulToNoOfreaders</th>\n",
       "      <th>Value_rating</th>\n",
       "      <th>Rooms_rating</th>\n",
       "      <th>Location_rating</th>\n",
       "      <th>Cleanliness_rating</th>\n",
       "      <th>Checkin_rating</th>\n",
       "      <th>Service_rating</th>\n",
       "      <th>Businessservice_rating</th>\n",
       "      <th>AverageOverallRatingOfHotel</th>\n",
       "      <th>AveragePricing</th>\n",
       "    </tr>\n",
       "  </thead>\n",
       "  <tbody>\n",
       "    <tr>\n",
       "      <td>0</td>\n",
       "      <td>hotel_101</td>\n",
       "      <td>hotel_2225</td>\n",
       "      <td>Just An Average stay This was just an average ...</td>\n",
       "      <td>Dec 13, 2008</td>\n",
       "      <td>0</td>\n",
       "      <td>0</td>\n",
       "      <td>4</td>\n",
       "      <td>4</td>\n",
       "      <td>1</td>\n",
       "      <td>4</td>\n",
       "      <td>4</td>\n",
       "      <td>4</td>\n",
       "      <td>3</td>\n",
       "      <td>3.5</td>\n",
       "      <td>$245</td>\n",
       "    </tr>\n",
       "    <tr>\n",
       "      <td>1</td>\n",
       "      <td>hotel_101</td>\n",
       "      <td>hotel_5079</td>\n",
       "      <td>go elsewhere The place is hugely overpriced an...</td>\n",
       "      <td>Dec 2, 2008</td>\n",
       "      <td>0</td>\n",
       "      <td>0</td>\n",
       "      <td>2</td>\n",
       "      <td>4</td>\n",
       "      <td>3</td>\n",
       "      <td>3</td>\n",
       "      <td>1</td>\n",
       "      <td>2</td>\n",
       "      <td>2</td>\n",
       "      <td>3.5</td>\n",
       "      <td>$245</td>\n",
       "    </tr>\n",
       "    <tr>\n",
       "      <td>2</td>\n",
       "      <td>hotel_101</td>\n",
       "      <td>hotel_8440</td>\n",
       "      <td>I Won't Go Back I stayed at the hotel 11/14/08...</td>\n",
       "      <td>Nov 18, 2008</td>\n",
       "      <td>0</td>\n",
       "      <td>0</td>\n",
       "      <td>2</td>\n",
       "      <td>4</td>\n",
       "      <td>3</td>\n",
       "      <td>4</td>\n",
       "      <td>2</td>\n",
       "      <td>3</td>\n",
       "      <td>1</td>\n",
       "      <td>3.5</td>\n",
       "      <td>$245</td>\n",
       "    </tr>\n",
       "    <tr>\n",
       "      <td>3</td>\n",
       "      <td>hotel_101</td>\n",
       "      <td>hotel_4592</td>\n",
       "      <td>Good weekend stay My wife and I stay here quit...</td>\n",
       "      <td>Oct 19, 2008</td>\n",
       "      <td>0</td>\n",
       "      <td>0</td>\n",
       "      <td>5</td>\n",
       "      <td>5</td>\n",
       "      <td>6</td>\n",
       "      <td>6</td>\n",
       "      <td>5</td>\n",
       "      <td>5</td>\n",
       "      <td>3</td>\n",
       "      <td>3.5</td>\n",
       "      <td>$245</td>\n",
       "    </tr>\n",
       "    <tr>\n",
       "      <td>4</td>\n",
       "      <td>hotel_101</td>\n",
       "      <td>hotel_5901</td>\n",
       "      <td>Great airport stay Lovely indoor pool area, lo...</td>\n",
       "      <td>Oct 13, 2008</td>\n",
       "      <td>0</td>\n",
       "      <td>0</td>\n",
       "      <td>5</td>\n",
       "      <td>6</td>\n",
       "      <td>6</td>\n",
       "      <td>6</td>\n",
       "      <td>6</td>\n",
       "      <td>1</td>\n",
       "      <td>6</td>\n",
       "      <td>3.5</td>\n",
       "      <td>$245</td>\n",
       "    </tr>\n",
       "  </tbody>\n",
       "</table>\n",
       "</div>"
      ],
      "text/plain": [
       "     Hotelid      userid                                         reviewtext  \\\n",
       "0  hotel_101  hotel_2225  Just An Average stay This was just an average ...   \n",
       "1  hotel_101  hotel_5079  go elsewhere The place is hugely overpriced an...   \n",
       "2  hotel_101  hotel_8440  I Won't Go Back I stayed at the hotel 11/14/08...   \n",
       "3  hotel_101  hotel_4592  Good weekend stay My wife and I stay here quit...   \n",
       "4  hotel_101  hotel_5901  Great airport stay Lovely indoor pool area, lo...   \n",
       "\n",
       "           Date  NoOfReaders  HelpfulToNoOfreaders  Value_rating  \\\n",
       "0  Dec 13, 2008            0                     0             4   \n",
       "1   Dec 2, 2008            0                     0             2   \n",
       "2  Nov 18, 2008            0                     0             2   \n",
       "3  Oct 19, 2008            0                     0             5   \n",
       "4  Oct 13, 2008            0                     0             5   \n",
       "\n",
       "   Rooms_rating  Location_rating  Cleanliness_rating  Checkin_rating  \\\n",
       "0             4                1                   4               4   \n",
       "1             4                3                   3               1   \n",
       "2             4                3                   4               2   \n",
       "3             5                6                   6               5   \n",
       "4             6                6                   6               6   \n",
       "\n",
       "   Service_rating  Businessservice_rating  AverageOverallRatingOfHotel  \\\n",
       "0               4                       3                          3.5   \n",
       "1               2                       2                          3.5   \n",
       "2               3                       1                          3.5   \n",
       "3               5                       3                          3.5   \n",
       "4               1                       6                          3.5   \n",
       "\n",
       "  AveragePricing  \n",
       "0           $245  \n",
       "1           $245  \n",
       "2           $245  \n",
       "3           $245  \n",
       "4           $245  "
      ]
     },
     "execution_count": 358,
     "metadata": {},
     "output_type": "execute_result"
    }
   ],
   "source": [
    "path = '/Users/boyu.loo/Desktop/hotel.csv'\n",
    "df = pd.read_csv(path)\n",
    "print(df.shape)\n",
    "df.head()"
   ]
  },
  {
   "cell_type": "code",
   "execution_count": 359,
   "metadata": {},
   "outputs": [
    {
     "name": "stdout",
     "output_type": "stream",
     "text": [
      "(7504, 9)\n"
     ]
    },
    {
     "data": {
      "text/html": [
       "<div>\n",
       "<style scoped>\n",
       "    .dataframe tbody tr th:only-of-type {\n",
       "        vertical-align: middle;\n",
       "    }\n",
       "\n",
       "    .dataframe tbody tr th {\n",
       "        vertical-align: top;\n",
       "    }\n",
       "\n",
       "    .dataframe thead th {\n",
       "        text-align: right;\n",
       "    }\n",
       "</style>\n",
       "<table border=\"1\" class=\"dataframe\">\n",
       "  <thead>\n",
       "    <tr style=\"text-align: right;\">\n",
       "      <th></th>\n",
       "      <th>Value_rating</th>\n",
       "      <th>Rooms_rating</th>\n",
       "      <th>Location_rating</th>\n",
       "      <th>Cleanliness_rating</th>\n",
       "      <th>Checkin_rating</th>\n",
       "      <th>Service_rating</th>\n",
       "      <th>Businessservice_rating</th>\n",
       "      <th>overall_rating</th>\n",
       "      <th>Hotelid</th>\n",
       "    </tr>\n",
       "  </thead>\n",
       "  <tbody>\n",
       "    <tr>\n",
       "      <td>0</td>\n",
       "      <td>4.0</td>\n",
       "      <td>4.0</td>\n",
       "      <td>1.0</td>\n",
       "      <td>4.0</td>\n",
       "      <td>4.0</td>\n",
       "      <td>4.0</td>\n",
       "      <td>3.0</td>\n",
       "      <td>2.0</td>\n",
       "      <td>hotel_101</td>\n",
       "    </tr>\n",
       "    <tr>\n",
       "      <td>1</td>\n",
       "      <td>2.0</td>\n",
       "      <td>4.0</td>\n",
       "      <td>3.0</td>\n",
       "      <td>3.0</td>\n",
       "      <td>1.0</td>\n",
       "      <td>2.0</td>\n",
       "      <td>2.0</td>\n",
       "      <td>1.0</td>\n",
       "      <td>hotel_101</td>\n",
       "    </tr>\n",
       "    <tr>\n",
       "      <td>2</td>\n",
       "      <td>2.0</td>\n",
       "      <td>4.0</td>\n",
       "      <td>3.0</td>\n",
       "      <td>4.0</td>\n",
       "      <td>2.0</td>\n",
       "      <td>3.0</td>\n",
       "      <td>1.0</td>\n",
       "      <td>2.0</td>\n",
       "      <td>hotel_101</td>\n",
       "    </tr>\n",
       "    <tr>\n",
       "      <td>3</td>\n",
       "      <td>5.0</td>\n",
       "      <td>5.0</td>\n",
       "      <td>6.0</td>\n",
       "      <td>6.0</td>\n",
       "      <td>5.0</td>\n",
       "      <td>5.0</td>\n",
       "      <td>3.0</td>\n",
       "      <td>0.0</td>\n",
       "      <td>hotel_101</td>\n",
       "    </tr>\n",
       "    <tr>\n",
       "      <td>4</td>\n",
       "      <td>5.0</td>\n",
       "      <td>6.0</td>\n",
       "      <td>6.0</td>\n",
       "      <td>6.0</td>\n",
       "      <td>6.0</td>\n",
       "      <td>1.0</td>\n",
       "      <td>6.0</td>\n",
       "      <td>0.0</td>\n",
       "      <td>hotel_101</td>\n",
       "    </tr>\n",
       "  </tbody>\n",
       "</table>\n",
       "</div>"
      ],
      "text/plain": [
       "   Value_rating  Rooms_rating  Location_rating  Cleanliness_rating  \\\n",
       "0           4.0           4.0              1.0                 4.0   \n",
       "1           2.0           4.0              3.0                 3.0   \n",
       "2           2.0           4.0              3.0                 4.0   \n",
       "3           5.0           5.0              6.0                 6.0   \n",
       "4           5.0           6.0              6.0                 6.0   \n",
       "\n",
       "   Checkin_rating  Service_rating  Businessservice_rating  overall_rating  \\\n",
       "0             4.0             4.0                     3.0             2.0   \n",
       "1             1.0             2.0                     2.0             1.0   \n",
       "2             2.0             3.0                     1.0             2.0   \n",
       "3             5.0             5.0                     3.0             0.0   \n",
       "4             6.0             1.0                     6.0             0.0   \n",
       "\n",
       "     Hotelid  \n",
       "0  hotel_101  \n",
       "1  hotel_101  \n",
       "2  hotel_101  \n",
       "3  hotel_101  \n",
       "4  hotel_101  "
      ]
     },
     "execution_count": 359,
     "metadata": {},
     "output_type": "execute_result"
    }
   ],
   "source": [
    "my_df = my_df.join(df['Hotelid'], how='right')\n",
    "print(my_df.shape)\n",
    "my_df.head()"
   ]
  },
  {
   "cell_type": "code",
   "execution_count": 360,
   "metadata": {},
   "outputs": [
    {
     "name": "stdout",
     "output_type": "stream",
     "text": [
      "(7504, 10)\n"
     ]
    },
    {
     "data": {
      "text/html": [
       "<div>\n",
       "<style scoped>\n",
       "    .dataframe tbody tr th:only-of-type {\n",
       "        vertical-align: middle;\n",
       "    }\n",
       "\n",
       "    .dataframe tbody tr th {\n",
       "        vertical-align: top;\n",
       "    }\n",
       "\n",
       "    .dataframe thead th {\n",
       "        text-align: right;\n",
       "    }\n",
       "</style>\n",
       "<table border=\"1\" class=\"dataframe\">\n",
       "  <thead>\n",
       "    <tr style=\"text-align: right;\">\n",
       "      <th></th>\n",
       "      <th>Value_rating</th>\n",
       "      <th>Rooms_rating</th>\n",
       "      <th>Location_rating</th>\n",
       "      <th>Cleanliness_rating</th>\n",
       "      <th>Checkin_rating</th>\n",
       "      <th>Service_rating</th>\n",
       "      <th>Businessservice_rating</th>\n",
       "      <th>overall_rating</th>\n",
       "      <th>Hotelid</th>\n",
       "      <th>userid</th>\n",
       "    </tr>\n",
       "  </thead>\n",
       "  <tbody>\n",
       "    <tr>\n",
       "      <td>0</td>\n",
       "      <td>4.0</td>\n",
       "      <td>4.0</td>\n",
       "      <td>1.0</td>\n",
       "      <td>4.0</td>\n",
       "      <td>4.0</td>\n",
       "      <td>4.0</td>\n",
       "      <td>3.0</td>\n",
       "      <td>2.0</td>\n",
       "      <td>hotel_101</td>\n",
       "      <td>hotel_2225</td>\n",
       "    </tr>\n",
       "    <tr>\n",
       "      <td>1</td>\n",
       "      <td>2.0</td>\n",
       "      <td>4.0</td>\n",
       "      <td>3.0</td>\n",
       "      <td>3.0</td>\n",
       "      <td>1.0</td>\n",
       "      <td>2.0</td>\n",
       "      <td>2.0</td>\n",
       "      <td>1.0</td>\n",
       "      <td>hotel_101</td>\n",
       "      <td>hotel_5079</td>\n",
       "    </tr>\n",
       "    <tr>\n",
       "      <td>2</td>\n",
       "      <td>2.0</td>\n",
       "      <td>4.0</td>\n",
       "      <td>3.0</td>\n",
       "      <td>4.0</td>\n",
       "      <td>2.0</td>\n",
       "      <td>3.0</td>\n",
       "      <td>1.0</td>\n",
       "      <td>2.0</td>\n",
       "      <td>hotel_101</td>\n",
       "      <td>hotel_8440</td>\n",
       "    </tr>\n",
       "    <tr>\n",
       "      <td>3</td>\n",
       "      <td>5.0</td>\n",
       "      <td>5.0</td>\n",
       "      <td>6.0</td>\n",
       "      <td>6.0</td>\n",
       "      <td>5.0</td>\n",
       "      <td>5.0</td>\n",
       "      <td>3.0</td>\n",
       "      <td>0.0</td>\n",
       "      <td>hotel_101</td>\n",
       "      <td>hotel_4592</td>\n",
       "    </tr>\n",
       "    <tr>\n",
       "      <td>4</td>\n",
       "      <td>5.0</td>\n",
       "      <td>6.0</td>\n",
       "      <td>6.0</td>\n",
       "      <td>6.0</td>\n",
       "      <td>6.0</td>\n",
       "      <td>1.0</td>\n",
       "      <td>6.0</td>\n",
       "      <td>0.0</td>\n",
       "      <td>hotel_101</td>\n",
       "      <td>hotel_5901</td>\n",
       "    </tr>\n",
       "  </tbody>\n",
       "</table>\n",
       "</div>"
      ],
      "text/plain": [
       "   Value_rating  Rooms_rating  Location_rating  Cleanliness_rating  \\\n",
       "0           4.0           4.0              1.0                 4.0   \n",
       "1           2.0           4.0              3.0                 3.0   \n",
       "2           2.0           4.0              3.0                 4.0   \n",
       "3           5.0           5.0              6.0                 6.0   \n",
       "4           5.0           6.0              6.0                 6.0   \n",
       "\n",
       "   Checkin_rating  Service_rating  Businessservice_rating  overall_rating  \\\n",
       "0             4.0             4.0                     3.0             2.0   \n",
       "1             1.0             2.0                     2.0             1.0   \n",
       "2             2.0             3.0                     1.0             2.0   \n",
       "3             5.0             5.0                     3.0             0.0   \n",
       "4             6.0             1.0                     6.0             0.0   \n",
       "\n",
       "     Hotelid      userid  \n",
       "0  hotel_101  hotel_2225  \n",
       "1  hotel_101  hotel_5079  \n",
       "2  hotel_101  hotel_8440  \n",
       "3  hotel_101  hotel_4592  \n",
       "4  hotel_101  hotel_5901  "
      ]
     },
     "execution_count": 360,
     "metadata": {},
     "output_type": "execute_result"
    }
   ],
   "source": [
    "my_df = my_df.join(df['userid'], how='right')\n",
    "print(my_df.shape)\n",
    "my_df.head()"
   ]
  },
  {
   "cell_type": "code",
   "execution_count": 361,
   "metadata": {},
   "outputs": [
    {
     "data": {
      "text/plain": [
       "0.9764125799573561"
      ]
     },
     "execution_count": 361,
     "metadata": {},
     "output_type": "execute_result"
    }
   ],
   "source": [
    "my_df['overall_rating'].mean()"
   ]
  },
  {
   "cell_type": "code",
   "execution_count": 362,
   "metadata": {},
   "outputs": [
    {
     "name": "stdout",
     "output_type": "stream",
     "text": [
      "<class 'pandas.core.frame.DataFrame'>\n",
      "RangeIndex: 7504 entries, 0 to 7503\n",
      "Data columns (total 10 columns):\n",
      "Value_rating              7504 non-null float64\n",
      "Rooms_rating              7504 non-null float64\n",
      "Location_rating           7504 non-null float64\n",
      "Cleanliness_rating        7504 non-null float64\n",
      "Checkin_rating            7504 non-null float64\n",
      "Service_rating            7504 non-null float64\n",
      "Businessservice_rating    7504 non-null float64\n",
      "overall_rating            7504 non-null float64\n",
      "Hotelid                   7504 non-null object\n",
      "userid                    7504 non-null object\n",
      "dtypes: float64(8), object(2)\n",
      "memory usage: 586.4+ KB\n"
     ]
    }
   ],
   "source": [
    "my_df.info()"
   ]
  },
  {
   "cell_type": "code",
   "execution_count": 363,
   "metadata": {},
   "outputs": [
    {
     "data": {
      "text/html": [
       "<div>\n",
       "<style scoped>\n",
       "    .dataframe tbody tr th:only-of-type {\n",
       "        vertical-align: middle;\n",
       "    }\n",
       "\n",
       "    .dataframe tbody tr th {\n",
       "        vertical-align: top;\n",
       "    }\n",
       "\n",
       "    .dataframe thead th {\n",
       "        text-align: right;\n",
       "    }\n",
       "</style>\n",
       "<table border=\"1\" class=\"dataframe\">\n",
       "  <thead>\n",
       "    <tr style=\"text-align: right;\">\n",
       "      <th></th>\n",
       "      <th>overall_rating</th>\n",
       "    </tr>\n",
       "    <tr>\n",
       "      <th>Hotelid</th>\n",
       "      <th></th>\n",
       "    </tr>\n",
       "  </thead>\n",
       "  <tbody>\n",
       "    <tr>\n",
       "      <td>hotel_101</td>\n",
       "      <td>0.800000</td>\n",
       "    </tr>\n",
       "    <tr>\n",
       "      <td>hotel_102</td>\n",
       "      <td>1.232558</td>\n",
       "    </tr>\n",
       "    <tr>\n",
       "      <td>hotel_103</td>\n",
       "      <td>1.142857</td>\n",
       "    </tr>\n",
       "    <tr>\n",
       "      <td>hotel_106</td>\n",
       "      <td>0.828125</td>\n",
       "    </tr>\n",
       "    <tr>\n",
       "      <td>hotel_107</td>\n",
       "      <td>0.846154</td>\n",
       "    </tr>\n",
       "  </tbody>\n",
       "</table>\n",
       "</div>"
      ],
      "text/plain": [
       "           overall_rating\n",
       "Hotelid                  \n",
       "hotel_101        0.800000\n",
       "hotel_102        1.232558\n",
       "hotel_103        1.142857\n",
       "hotel_106        0.828125\n",
       "hotel_107        0.846154"
      ]
     },
     "execution_count": 363,
     "metadata": {},
     "output_type": "execute_result"
    }
   ],
   "source": [
    "'''Build a data frame that contains the overall_rating and the number of times each hotel was scored \n",
    "to calculate the correlation between hotels.\n",
    "'''\n",
    "ratings = pd.DataFrame(my_df.groupby('Hotelid')['overall_rating'].mean())\n",
    "ratings.head()"
   ]
  },
  {
   "cell_type": "code",
   "execution_count": 364,
   "metadata": {},
   "outputs": [
    {
     "data": {
      "text/html": [
       "<div>\n",
       "<style scoped>\n",
       "    .dataframe tbody tr th:only-of-type {\n",
       "        vertical-align: middle;\n",
       "    }\n",
       "\n",
       "    .dataframe tbody tr th {\n",
       "        vertical-align: top;\n",
       "    }\n",
       "\n",
       "    .dataframe thead th {\n",
       "        text-align: right;\n",
       "    }\n",
       "</style>\n",
       "<table border=\"1\" class=\"dataframe\">\n",
       "  <thead>\n",
       "    <tr style=\"text-align: right;\">\n",
       "      <th></th>\n",
       "      <th>overall_rating</th>\n",
       "      <th>number_of_ratings</th>\n",
       "    </tr>\n",
       "    <tr>\n",
       "      <th>Hotelid</th>\n",
       "      <th></th>\n",
       "      <th></th>\n",
       "    </tr>\n",
       "  </thead>\n",
       "  <tbody>\n",
       "    <tr>\n",
       "      <td>hotel_101</td>\n",
       "      <td>0.800000</td>\n",
       "      <td>40</td>\n",
       "    </tr>\n",
       "    <tr>\n",
       "      <td>hotel_102</td>\n",
       "      <td>1.232558</td>\n",
       "      <td>86</td>\n",
       "    </tr>\n",
       "    <tr>\n",
       "      <td>hotel_103</td>\n",
       "      <td>1.142857</td>\n",
       "      <td>56</td>\n",
       "    </tr>\n",
       "    <tr>\n",
       "      <td>hotel_106</td>\n",
       "      <td>0.828125</td>\n",
       "      <td>64</td>\n",
       "    </tr>\n",
       "    <tr>\n",
       "      <td>hotel_107</td>\n",
       "      <td>0.846154</td>\n",
       "      <td>39</td>\n",
       "    </tr>\n",
       "  </tbody>\n",
       "</table>\n",
       "</div>"
      ],
      "text/plain": [
       "           overall_rating  number_of_ratings\n",
       "Hotelid                                     \n",
       "hotel_101        0.800000                 40\n",
       "hotel_102        1.232558                 86\n",
       "hotel_103        1.142857                 56\n",
       "hotel_106        0.828125                 64\n",
       "hotel_107        0.846154                 39"
      ]
     },
     "execution_count": 364,
     "metadata": {},
     "output_type": "execute_result"
    }
   ],
   "source": [
    "ratings['number_of_ratings'] = my_df.groupby('Hotelid')['overall_rating'].count()\n",
    "ratings.head()"
   ]
  },
  {
   "cell_type": "code",
   "execution_count": 365,
   "metadata": {},
   "outputs": [
    {
     "data": {
      "text/plain": [
       "<matplotlib.axes._subplots.AxesSubplot at 0x1a254f9a90>"
      ]
     },
     "execution_count": 365,
     "metadata": {},
     "output_type": "execute_result"
    },
    {
     "data": {
      "image/png": "[encoded data removed]",
      "text/plain": [
       "<Figure size 432x288 with 1 Axes>"
      ]
     },
     "metadata": {
      "needs_background": "light"
     },
     "output_type": "display_data"
    }
   ],
   "source": [
    "import matplotlib.pyplot as plt\n",
    "%matplotlib inline\n",
    "ratings['overall_rating'].hist(bins=50)"
   ]
  },
  {
   "cell_type": "code",
   "execution_count": 366,
   "metadata": {},
   "outputs": [
    {
     "data": {
      "text/plain": [
       "<seaborn.axisgrid.JointGrid at 0x1a294fe690>"
      ]
     },
     "execution_count": 366,
     "metadata": {},
     "output_type": "execute_result"
    },
    {
     "data": {
      "image/png": "[encoded data removed]",
      "text/plain": [
       "<Figure size 432x432 with 3 Axes>"
      ]
     },
     "metadata": {
      "needs_background": "light"
     },
     "output_type": "display_data"
    }
   ],
   "source": [
    "'''The relationship between over_rating and rating times'''\n",
    "import seaborn as sns\n",
    "sns.jointplot(x='overall_rating', y='number_of_ratings', data=ratings)"
   ]
  },
  {
   "cell_type": "code",
   "execution_count": 367,
   "metadata": {},
   "outputs": [
    {
     "data": {
      "text/html": [
       "<div>\n",
       "<style scoped>\n",
       "    .dataframe tbody tr th:only-of-type {\n",
       "        vertical-align: middle;\n",
       "    }\n",
       "\n",
       "    .dataframe tbody tr th {\n",
       "        vertical-align: top;\n",
       "    }\n",
       "\n",
       "    .dataframe thead th {\n",
       "        text-align: right;\n",
       "    }\n",
       "</style>\n",
       "<table border=\"1\" class=\"dataframe\">\n",
       "  <thead>\n",
       "    <tr style=\"text-align: right;\">\n",
       "      <th>Hotelid</th>\n",
       "      <th>hotel_101</th>\n",
       "      <th>hotel_102</th>\n",
       "      <th>hotel_103</th>\n",
       "      <th>hotel_106</th>\n",
       "      <th>hotel_107</th>\n",
       "      <th>hotel_108</th>\n",
       "      <th>hotel_109</th>\n",
       "      <th>hotel_110</th>\n",
       "      <th>hotel_111</th>\n",
       "      <th>hotel_112</th>\n",
       "      <th>...</th>\n",
       "      <th>hotel_185</th>\n",
       "      <th>hotel_186</th>\n",
       "      <th>hotel_188</th>\n",
       "      <th>hotel_190</th>\n",
       "      <th>hotel_191</th>\n",
       "      <th>hotel_192</th>\n",
       "      <th>hotel_193</th>\n",
       "      <th>hotel_195</th>\n",
       "      <th>hotel_198</th>\n",
       "      <th>hotel_200</th>\n",
       "    </tr>\n",
       "    <tr>\n",
       "      <th>userid</th>\n",
       "      <th></th>\n",
       "      <th></th>\n",
       "      <th></th>\n",
       "      <th></th>\n",
       "      <th></th>\n",
       "      <th></th>\n",
       "      <th></th>\n",
       "      <th></th>\n",
       "      <th></th>\n",
       "      <th></th>\n",
       "      <th></th>\n",
       "      <th></th>\n",
       "      <th></th>\n",
       "      <th></th>\n",
       "      <th></th>\n",
       "      <th></th>\n",
       "      <th></th>\n",
       "      <th></th>\n",
       "      <th></th>\n",
       "      <th></th>\n",
       "      <th></th>\n",
       "    </tr>\n",
       "  </thead>\n",
       "  <tbody>\n",
       "    <tr>\n",
       "      <td>hotel_10000</td>\n",
       "      <td>NaN</td>\n",
       "      <td>NaN</td>\n",
       "      <td>NaN</td>\n",
       "      <td>NaN</td>\n",
       "      <td>NaN</td>\n",
       "      <td>NaN</td>\n",
       "      <td>NaN</td>\n",
       "      <td>NaN</td>\n",
       "      <td>NaN</td>\n",
       "      <td>NaN</td>\n",
       "      <td>...</td>\n",
       "      <td>NaN</td>\n",
       "      <td>NaN</td>\n",
       "      <td>NaN</td>\n",
       "      <td>NaN</td>\n",
       "      <td>NaN</td>\n",
       "      <td>NaN</td>\n",
       "      <td>NaN</td>\n",
       "      <td>NaN</td>\n",
       "      <td>NaN</td>\n",
       "      <td>NaN</td>\n",
       "    </tr>\n",
       "    <tr>\n",
       "      <td>hotel_10003</td>\n",
       "      <td>NaN</td>\n",
       "      <td>NaN</td>\n",
       "      <td>NaN</td>\n",
       "      <td>NaN</td>\n",
       "      <td>NaN</td>\n",
       "      <td>NaN</td>\n",
       "      <td>NaN</td>\n",
       "      <td>NaN</td>\n",
       "      <td>NaN</td>\n",
       "      <td>NaN</td>\n",
       "      <td>...</td>\n",
       "      <td>NaN</td>\n",
       "      <td>NaN</td>\n",
       "      <td>NaN</td>\n",
       "      <td>NaN</td>\n",
       "      <td>NaN</td>\n",
       "      <td>NaN</td>\n",
       "      <td>NaN</td>\n",
       "      <td>NaN</td>\n",
       "      <td>NaN</td>\n",
       "      <td>NaN</td>\n",
       "    </tr>\n",
       "    <tr>\n",
       "      <td>hotel_10005</td>\n",
       "      <td>NaN</td>\n",
       "      <td>NaN</td>\n",
       "      <td>NaN</td>\n",
       "      <td>NaN</td>\n",
       "      <td>NaN</td>\n",
       "      <td>NaN</td>\n",
       "      <td>NaN</td>\n",
       "      <td>NaN</td>\n",
       "      <td>NaN</td>\n",
       "      <td>NaN</td>\n",
       "      <td>...</td>\n",
       "      <td>NaN</td>\n",
       "      <td>NaN</td>\n",
       "      <td>NaN</td>\n",
       "      <td>NaN</td>\n",
       "      <td>NaN</td>\n",
       "      <td>NaN</td>\n",
       "      <td>NaN</td>\n",
       "      <td>NaN</td>\n",
       "      <td>NaN</td>\n",
       "      <td>NaN</td>\n",
       "    </tr>\n",
       "    <tr>\n",
       "      <td>hotel_10006</td>\n",
       "      <td>NaN</td>\n",
       "      <td>NaN</td>\n",
       "      <td>NaN</td>\n",
       "      <td>NaN</td>\n",
       "      <td>NaN</td>\n",
       "      <td>NaN</td>\n",
       "      <td>NaN</td>\n",
       "      <td>NaN</td>\n",
       "      <td>NaN</td>\n",
       "      <td>NaN</td>\n",
       "      <td>...</td>\n",
       "      <td>NaN</td>\n",
       "      <td>NaN</td>\n",
       "      <td>NaN</td>\n",
       "      <td>NaN</td>\n",
       "      <td>NaN</td>\n",
       "      <td>NaN</td>\n",
       "      <td>NaN</td>\n",
       "      <td>NaN</td>\n",
       "      <td>NaN</td>\n",
       "      <td>NaN</td>\n",
       "    </tr>\n",
       "    <tr>\n",
       "      <td>hotel_10007</td>\n",
       "      <td>NaN</td>\n",
       "      <td>NaN</td>\n",
       "      <td>NaN</td>\n",
       "      <td>NaN</td>\n",
       "      <td>NaN</td>\n",
       "      <td>NaN</td>\n",
       "      <td>NaN</td>\n",
       "      <td>NaN</td>\n",
       "      <td>NaN</td>\n",
       "      <td>NaN</td>\n",
       "      <td>...</td>\n",
       "      <td>NaN</td>\n",
       "      <td>NaN</td>\n",
       "      <td>NaN</td>\n",
       "      <td>NaN</td>\n",
       "      <td>NaN</td>\n",
       "      <td>NaN</td>\n",
       "      <td>NaN</td>\n",
       "      <td>NaN</td>\n",
       "      <td>NaN</td>\n",
       "      <td>NaN</td>\n",
       "    </tr>\n",
       "  </tbody>\n",
       "</table>\n",
       "<p>5 rows × 75 columns</p>\n",
       "</div>"
      ],
      "text/plain": [
       "Hotelid      hotel_101  hotel_102  hotel_103  hotel_106  hotel_107  hotel_108  \\\n",
       "userid                                                                          \n",
       "hotel_10000        NaN        NaN        NaN        NaN        NaN        NaN   \n",
       "hotel_10003        NaN        NaN        NaN        NaN        NaN        NaN   \n",
       "hotel_10005        NaN        NaN        NaN        NaN        NaN        NaN   \n",
       "hotel_10006        NaN        NaN        NaN        NaN        NaN        NaN   \n",
       "hotel_10007        NaN        NaN        NaN        NaN        NaN        NaN   \n",
       "\n",
       "Hotelid      hotel_109  hotel_110  hotel_111  hotel_112  ...  hotel_185  \\\n",
       "userid                                                   ...              \n",
       "hotel_10000        NaN        NaN        NaN        NaN  ...        NaN   \n",
       "hotel_10003        NaN        NaN        NaN        NaN  ...        NaN   \n",
       "hotel_10005        NaN        NaN        NaN        NaN  ...        NaN   \n",
       "hotel_10006        NaN        NaN        NaN        NaN  ...        NaN   \n",
       "hotel_10007        NaN        NaN        NaN        NaN  ...        NaN   \n",
       "\n",
       "Hotelid      hotel_186  hotel_188  hotel_190  hotel_191  hotel_192  hotel_193  \\\n",
       "userid                                                                          \n",
       "hotel_10000        NaN        NaN        NaN        NaN        NaN        NaN   \n",
       "hotel_10003        NaN        NaN        NaN        NaN        NaN        NaN   \n",
       "hotel_10005        NaN        NaN        NaN        NaN        NaN        NaN   \n",
       "hotel_10006        NaN        NaN        NaN        NaN        NaN        NaN   \n",
       "hotel_10007        NaN        NaN        NaN        NaN        NaN        NaN   \n",
       "\n",
       "Hotelid      hotel_195  hotel_198  hotel_200  \n",
       "userid                                        \n",
       "hotel_10000        NaN        NaN        NaN  \n",
       "hotel_10003        NaN        NaN        NaN  \n",
       "hotel_10005        NaN        NaN        NaN  \n",
       "hotel_10006        NaN        NaN        NaN  \n",
       "hotel_10007        NaN        NaN        NaN  \n",
       "\n",
       "[5 rows x 75 columns]"
      ]
     },
     "execution_count": 367,
     "metadata": {},
     "output_type": "execute_result"
    }
   ],
   "source": [
    "hotel_matrix = my_df.pivot_table(index='userid', columns='Hotelid', values='overall_rating')\n",
    "hotel_matrix.head()\n",
    "#Because users do not evaluate every hotel, they will be a null value"
   ]
  },
  {
   "cell_type": "code",
   "execution_count": 368,
   "metadata": {},
   "outputs": [
    {
     "data": {
      "text/html": [
       "<div>\n",
       "<style scoped>\n",
       "    .dataframe tbody tr th:only-of-type {\n",
       "        vertical-align: middle;\n",
       "    }\n",
       "\n",
       "    .dataframe tbody tr th {\n",
       "        vertical-align: top;\n",
       "    }\n",
       "\n",
       "    .dataframe thead th {\n",
       "        text-align: right;\n",
       "    }\n",
       "</style>\n",
       "<table border=\"1\" class=\"dataframe\">\n",
       "  <thead>\n",
       "    <tr style=\"text-align: right;\">\n",
       "      <th></th>\n",
       "      <th>overall_rating</th>\n",
       "      <th>number_of_ratings</th>\n",
       "    </tr>\n",
       "    <tr>\n",
       "      <th>Hotelid</th>\n",
       "      <th></th>\n",
       "      <th></th>\n",
       "    </tr>\n",
       "  </thead>\n",
       "  <tbody>\n",
       "    <tr>\n",
       "      <td>hotel_188</td>\n",
       "      <td>1.145092</td>\n",
       "      <td>703</td>\n",
       "    </tr>\n",
       "    <tr>\n",
       "      <td>hotel_152</td>\n",
       "      <td>0.981481</td>\n",
       "      <td>324</td>\n",
       "    </tr>\n",
       "    <tr>\n",
       "      <td>hotel_186</td>\n",
       "      <td>0.847896</td>\n",
       "      <td>309</td>\n",
       "    </tr>\n",
       "    <tr>\n",
       "      <td>hotel_169</td>\n",
       "      <td>1.030822</td>\n",
       "      <td>292</td>\n",
       "    </tr>\n",
       "    <tr>\n",
       "      <td>hotel_182</td>\n",
       "      <td>0.835052</td>\n",
       "      <td>291</td>\n",
       "    </tr>\n",
       "  </tbody>\n",
       "</table>\n",
       "</div>"
      ],
      "text/plain": [
       "           overall_rating  number_of_ratings\n",
       "Hotelid                                     \n",
       "hotel_188        1.145092                703\n",
       "hotel_152        0.981481                324\n",
       "hotel_186        0.847896                309\n",
       "hotel_169        1.030822                292\n",
       "hotel_182        0.835052                291"
      ]
     },
     "execution_count": 368,
     "metadata": {},
     "output_type": "execute_result"
    }
   ],
   "source": [
    "ratings.sort_values('number_of_ratings',ascending=False).head()"
   ]
  },
  {
   "cell_type": "code",
   "execution_count": 369,
   "metadata": {},
   "outputs": [
    {
     "data": {
      "text/plain": [
       "userid\n",
       "hotel_10000   NaN\n",
       "hotel_10003   NaN\n",
       "hotel_10005   NaN\n",
       "hotel_10006   NaN\n",
       "hotel_10007   NaN\n",
       "Name: hotel_152, dtype: float64"
      ]
     },
     "execution_count": 369,
     "metadata": {},
     "output_type": "execute_result"
    }
   ],
   "source": [
    "hotel_188_rating = hotel_matrix['hotel_188']\n",
    "hotel_188_rating.head()\n",
    "hotel_152_rating = hotel_matrix['hotel_152']\n",
    "hotel_152_rating.head()"
   ]
  },
  {
   "cell_type": "code",
   "execution_count": 370,
   "metadata": {},
   "outputs": [
    {
     "data": {
      "text/plain": [
       "Hotelid\n",
       "hotel_101   NaN\n",
       "hotel_102   NaN\n",
       "hotel_103   NaN\n",
       "hotel_106   NaN\n",
       "hotel_107   NaN\n",
       "dtype: float64"
      ]
     },
     "execution_count": 370,
     "metadata": {},
     "output_type": "execute_result"
    }
   ],
   "source": [
    "similar_hotel_188 =hotel_matrix.corrwith(hotel_188_rating)\n",
    "similar_hotel_188.head()"
   ]
  },
  {
   "cell_type": "code",
   "execution_count": 371,
   "metadata": {},
   "outputs": [
    {
     "data": {
      "text/plain": [
       "Hotelid\n",
       "hotel_101   NaN\n",
       "hotel_102   NaN\n",
       "hotel_103   NaN\n",
       "hotel_106   NaN\n",
       "hotel_107   NaN\n",
       "dtype: float64"
      ]
     },
     "execution_count": 371,
     "metadata": {},
     "output_type": "execute_result"
    }
   ],
   "source": [
    "similar_hotel_152 =hotel_matrix.corrwith(hotel_152_rating)\n",
    "similar_hotel_152.head()"
   ]
  },
  {
   "cell_type": "code",
   "execution_count": 372,
   "metadata": {},
   "outputs": [
    {
     "data": {
      "text/html": [
       "<div>\n",
       "<style scoped>\n",
       "    .dataframe tbody tr th:only-of-type {\n",
       "        vertical-align: middle;\n",
       "    }\n",
       "\n",
       "    .dataframe tbody tr th {\n",
       "        vertical-align: top;\n",
       "    }\n",
       "\n",
       "    .dataframe thead th {\n",
       "        text-align: right;\n",
       "    }\n",
       "</style>\n",
       "<table border=\"1\" class=\"dataframe\">\n",
       "  <thead>\n",
       "    <tr style=\"text-align: right;\">\n",
       "      <th></th>\n",
       "      <th>Correlation</th>\n",
       "    </tr>\n",
       "    <tr>\n",
       "      <th>Hotelid</th>\n",
       "      <th></th>\n",
       "    </tr>\n",
       "  </thead>\n",
       "  <tbody>\n",
       "    <tr>\n",
       "      <td>hotel_186</td>\n",
       "      <td>0.0</td>\n",
       "    </tr>\n",
       "  </tbody>\n",
       "</table>\n",
       "</div>"
      ],
      "text/plain": [
       "           Correlation\n",
       "Hotelid               \n",
       "hotel_186          0.0"
      ]
     },
     "execution_count": 372,
     "metadata": {},
     "output_type": "execute_result"
    }
   ],
   "source": [
    "corr_188 = pd.DataFrame(similar_hotel_188, columns=['Correlation'])\n",
    "corr_188.dropna(inplace=True)\n",
    "corr_188.head(1)"
   ]
  },
  {
   "cell_type": "code",
   "execution_count": 373,
   "metadata": {},
   "outputs": [
    {
     "data": {
      "text/html": [
       "<div>\n",
       "<style scoped>\n",
       "    .dataframe tbody tr th:only-of-type {\n",
       "        vertical-align: middle;\n",
       "    }\n",
       "\n",
       "    .dataframe tbody tr th {\n",
       "        vertical-align: top;\n",
       "    }\n",
       "\n",
       "    .dataframe thead th {\n",
       "        text-align: right;\n",
       "    }\n",
       "</style>\n",
       "<table border=\"1\" class=\"dataframe\">\n",
       "  <thead>\n",
       "    <tr style=\"text-align: right;\">\n",
       "      <th></th>\n",
       "      <th>Correlation</th>\n",
       "    </tr>\n",
       "    <tr>\n",
       "      <th>Hotelid</th>\n",
       "      <th></th>\n",
       "    </tr>\n",
       "  </thead>\n",
       "  <tbody>\n",
       "    <tr>\n",
       "      <td>hotel_135</td>\n",
       "      <td>0.5</td>\n",
       "    </tr>\n",
       "    <tr>\n",
       "      <td>hotel_141</td>\n",
       "      <td>0.5</td>\n",
       "    </tr>\n",
       "    <tr>\n",
       "      <td>hotel_152</td>\n",
       "      <td>1.0</td>\n",
       "    </tr>\n",
       "  </tbody>\n",
       "</table>\n",
       "</div>"
      ],
      "text/plain": [
       "           Correlation\n",
       "Hotelid               \n",
       "hotel_135          0.5\n",
       "hotel_141          0.5\n",
       "hotel_152          1.0"
      ]
     },
     "execution_count": 373,
     "metadata": {},
     "output_type": "execute_result"
    }
   ],
   "source": [
    "corr_152 = pd.DataFrame(similar_hotel_152, columns=['Correlation'])\n",
    "corr_152.dropna(inplace=True)\n",
    "corr_152.head()"
   ]
  },
  {
   "cell_type": "code",
   "execution_count": 374,
   "metadata": {},
   "outputs": [
    {
     "data": {
      "text/html": [
       "<div>\n",
       "<style scoped>\n",
       "    .dataframe tbody tr th:only-of-type {\n",
       "        vertical-align: middle;\n",
       "    }\n",
       "\n",
       "    .dataframe tbody tr th {\n",
       "        vertical-align: top;\n",
       "    }\n",
       "\n",
       "    .dataframe thead th {\n",
       "        text-align: right;\n",
       "    }\n",
       "</style>\n",
       "<table border=\"1\" class=\"dataframe\">\n",
       "  <thead>\n",
       "    <tr style=\"text-align: right;\">\n",
       "      <th></th>\n",
       "      <th>Correlation</th>\n",
       "      <th>number_of_ratings</th>\n",
       "    </tr>\n",
       "    <tr>\n",
       "      <th>Hotelid</th>\n",
       "      <th></th>\n",
       "      <th></th>\n",
       "    </tr>\n",
       "  </thead>\n",
       "  <tbody>\n",
       "    <tr>\n",
       "      <td>hotel_186</td>\n",
       "      <td>0.0</td>\n",
       "      <td>309</td>\n",
       "    </tr>\n",
       "    <tr>\n",
       "      <td>hotel_188</td>\n",
       "      <td>1.0</td>\n",
       "      <td>703</td>\n",
       "    </tr>\n",
       "  </tbody>\n",
       "</table>\n",
       "</div>"
      ],
      "text/plain": [
       "           Correlation  number_of_ratings\n",
       "Hotelid                                  \n",
       "hotel_186          0.0                309\n",
       "hotel_188          1.0                703"
      ]
     },
     "execution_count": 374,
     "metadata": {},
     "output_type": "execute_result"
    }
   ],
   "source": [
    "corr_188 = corr_188.join(ratings['number_of_ratings'])\n",
    "corr_188.head()"
   ]
  },
  {
   "cell_type": "code",
   "execution_count": 375,
   "metadata": {},
   "outputs": [
    {
     "data": {
      "text/html": [
       "<div>\n",
       "<style scoped>\n",
       "    .dataframe tbody tr th:only-of-type {\n",
       "        vertical-align: middle;\n",
       "    }\n",
       "\n",
       "    .dataframe tbody tr th {\n",
       "        vertical-align: top;\n",
       "    }\n",
       "\n",
       "    .dataframe thead th {\n",
       "        text-align: right;\n",
       "    }\n",
       "</style>\n",
       "<table border=\"1\" class=\"dataframe\">\n",
       "  <thead>\n",
       "    <tr style=\"text-align: right;\">\n",
       "      <th></th>\n",
       "      <th>Correlation</th>\n",
       "      <th>number_of_ratings</th>\n",
       "    </tr>\n",
       "    <tr>\n",
       "      <th>Hotelid</th>\n",
       "      <th></th>\n",
       "      <th></th>\n",
       "    </tr>\n",
       "  </thead>\n",
       "  <tbody>\n",
       "    <tr>\n",
       "      <td>hotel_135</td>\n",
       "      <td>0.5</td>\n",
       "      <td>189</td>\n",
       "    </tr>\n",
       "    <tr>\n",
       "      <td>hotel_141</td>\n",
       "      <td>0.5</td>\n",
       "      <td>224</td>\n",
       "    </tr>\n",
       "    <tr>\n",
       "      <td>hotel_152</td>\n",
       "      <td>1.0</td>\n",
       "      <td>324</td>\n",
       "    </tr>\n",
       "  </tbody>\n",
       "</table>\n",
       "</div>"
      ],
      "text/plain": [
       "           Correlation  number_of_ratings\n",
       "Hotelid                                  \n",
       "hotel_135          0.5                189\n",
       "hotel_141          0.5                224\n",
       "hotel_152          1.0                324"
      ]
     },
     "execution_count": 375,
     "metadata": {},
     "output_type": "execute_result"
    }
   ],
   "source": [
    "corr_152 = corr_152.join(ratings['number_of_ratings'])\n",
    "corr_152 .head()"
   ]
  },
  {
   "cell_type": "code",
   "execution_count": 376,
   "metadata": {},
   "outputs": [
    {
     "data": {
      "text/html": [
       "<div>\n",
       "<style scoped>\n",
       "    .dataframe tbody tr th:only-of-type {\n",
       "        vertical-align: middle;\n",
       "    }\n",
       "\n",
       "    .dataframe tbody tr th {\n",
       "        vertical-align: top;\n",
       "    }\n",
       "\n",
       "    .dataframe thead th {\n",
       "        text-align: right;\n",
       "    }\n",
       "</style>\n",
       "<table border=\"1\" class=\"dataframe\">\n",
       "  <thead>\n",
       "    <tr style=\"text-align: right;\">\n",
       "      <th></th>\n",
       "      <th>Correlation</th>\n",
       "      <th>number_of_ratings</th>\n",
       "    </tr>\n",
       "    <tr>\n",
       "      <th>Hotelid</th>\n",
       "      <th></th>\n",
       "      <th></th>\n",
       "    </tr>\n",
       "  </thead>\n",
       "  <tbody>\n",
       "    <tr>\n",
       "      <td>hotel_152</td>\n",
       "      <td>1.0</td>\n",
       "      <td>324</td>\n",
       "    </tr>\n",
       "    <tr>\n",
       "      <td>hotel_141</td>\n",
       "      <td>0.5</td>\n",
       "      <td>224</td>\n",
       "    </tr>\n",
       "  </tbody>\n",
       "</table>\n",
       "</div>"
      ],
      "text/plain": [
       "           Correlation  number_of_ratings\n",
       "Hotelid                                  \n",
       "hotel_152          1.0                324\n",
       "hotel_141          0.5                224"
      ]
     },
     "execution_count": 376,
     "metadata": {},
     "output_type": "execute_result"
    }
   ],
   "source": [
    "corr_152[corr_152['number_of_ratings'] > 200].sort_values(by='Correlation', ascending=False).head()"
   ]
  },
  {
   "cell_type": "code",
   "execution_count": null,
   "metadata": {},
   "outputs": [],
   "source": []
  }
 ],
 "metadata": {
  "kernelspec": {
   "display_name": "Python 3",
   "language": "python",
   "name": "python3"
  },
  "language_info": {
   "codemirror_mode": {
    "name": "ipython",
    "version": 3
   },
   "file_extension": ".py",
   "mimetype": "text/x-python",
   "name": "python",
   "nbconvert_exporter": "python",
   "pygments_lexer": "ipython3",
   "version": "3.7.4"
  }
 },
 "nbformat": 4,
 "nbformat_minor": 2
}
